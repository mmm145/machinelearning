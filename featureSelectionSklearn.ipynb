{
 "cells": [
  {
   "cell_type": "markdown",
   "id": "af19ca3c-0732-42fa-9399-9b426c2393a3",
   "metadata": {},
   "source": [
    "https://scikit-learn.org/1.5/modules/feature_selection.html"
   ]
  },
  {
   "cell_type": "markdown",
   "id": "5c4c39c7-3c70-4a6d-bf66-adb758edf25e",
   "metadata": {},
   "source": [
    "# Feature selection \n",
    "\n",
    "## 1.Removing features with low variance \n",
    "\n",
    "- from sklearn.feature_selection import VarianceThreshold\n",
    "\n",
    "removes all the features whose variance is less than some threshold. \n",
    "\n",
    "**how**\n",
    "\n",
    "\n",
    "\n",
    "## 2.Univariate feature selection \n",
    "\n",
    "- based on univariate statistical tests\n",
    "- usually used in preprocess phase in data science. \n",
    "\n",
    "\n",
    "\n",
    "### from sklearn.feature_selection import SelectKBest\n",
    "\n",
    "choose k features that has highest scores\n",
    "\n",
    "### from sklearn.feature_selection import SelectPercentile\n",
    "\n",
    "user-specified highest scoring percentage \n",
    "\n",
    "#### scoring functoin for SelectKBest and SelectPercentile\n",
    "\n",
    "**regression**\n",
    "\n",
    "- r_regression\n",
    "- f_regression\n",
    "- mutual_info_regression\n",
    "\n",
    "**classification**\n",
    "\n",
    "- chi2\n",
    "- f_classif\n",
    "- mutual_info_classif\n",
    "\n",
    "### from sklearn.feature_selection import SelectFpr, SelectFdr, SelectFwe\n",
    "\n",
    "- false positive rate\n",
    "- false discovery rate\n",
    "- family wise error \n",
    "\n",
    "### from sklearn.feature_selection import GenericUnivariateSelect\n",
    "\n",
    "- with hyper-parameter search estimator\n",
    "\n",
    "## 3.Recursive feature elimination \n",
    "\n",
    "## 4.Feature selection using SelectFromModel\n",
    "\n",
    "## 5.L1-based feature selection \n",
    "\n",
    "## 6.Sequential Feature Selection \n",
    "\n",
    "## 7.Feature Selection as part of a pipeline \n"
   ]
  }
 ],
 "metadata": {
  "kernelspec": {
   "display_name": "Python 3 (ipykernel)",
   "language": "python",
   "name": "python3"
  },
  "language_info": {
   "codemirror_mode": {
    "name": "ipython",
    "version": 3
   },
   "file_extension": ".py",
   "mimetype": "text/x-python",
   "name": "python",
   "nbconvert_exporter": "python",
   "pygments_lexer": "ipython3",
   "version": "3.12.8"
  }
 },
 "nbformat": 4,
 "nbformat_minor": 5
}
