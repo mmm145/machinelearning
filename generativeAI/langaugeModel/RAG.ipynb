{
 "cells": [
  {
   "cell_type": "markdown",
   "id": "a740914a-1026-414e-91b3-c19aebf70469",
   "metadata": {},
   "source": [
    "# def\n",
    "\n",
    "- retrieval augmented generation\n",
    "\n",
    "**steps**\n",
    "\n",
    "- search information based on user s instruction\n",
    " - vector search\n",
    "   - understand the meaning of word and get the related information. \n",
    " - key word search\n",
    "   - understand the pattern of word or strings, and get the information that is similar to the information. \n",
    "- LLM understands the result and answer based on user s instruction.\n",
    "\n",
    "\n",
    "# type of retrieval \n",
    "\n",
    "use similarity score between two pieces of text. \n",
    "\n",
    "- sparse retrieval.\n",
    "  - sim(i, j) = (# of occurances of i in j) * log( ( # of total documents )/ ( # of documents containing i))\n",
    "- dense retrieval.\n",
    "  - sim(i, j) = encoder(i) * encoder(j) "
   ]
  }
 ],
 "metadata": {
  "kernelspec": {
   "display_name": "Python 3 (ipykernel)",
   "language": "python",
   "name": "python3"
  },
  "language_info": {
   "codemirror_mode": {
    "name": "ipython",
    "version": 3
   },
   "file_extension": ".py",
   "mimetype": "text/x-python",
   "name": "python",
   "nbconvert_exporter": "python",
   "pygments_lexer": "ipython3",
   "version": "3.12.4"
  }
 },
 "nbformat": 4,
 "nbformat_minor": 5
}
