{
 "cells": [
  {
   "cell_type": "markdown",
   "id": "a4dfa5c5-c50d-4b05-a0ee-4616c8610a36",
   "metadata": {},
   "source": [
    "# one type of neural network\n",
    "\n",
    "- the data is stored as graph.\n",
    "  - more complex relationship.\n",
    "  - socail networ analysis\n",
    "  - molecule analysis.\n",
    " \n",
    "## introduction\n",
    "\n",
    "**graph**\n",
    "\n",
    "- complex data structure\n",
    "  - relationship between entities\n",
    "\n",
    "**problem when using traditional machine learning**\n",
    "\n",
    "- variable size input\n",
    "  - if input size changes, which infulence the model. \n",
    "-  no natual ordering of nodes\n",
    "  - \n",
    "-  complex dependencies between nodes\n",
    "-  irrgular structure.\n",
    "\n",
    "**shallow embedding to deep embedding**\n",
    "\n",
    "\n",
    "- shallow embedding\n",
    "  - when creating new language\n",
    "    - you use alreay language that already existed as foundation of new one. \n",
    "\n",
    "- deep embedding\n",
    "  - create new langauge with new rule \n",
    "\n",
    "- limitation of shallow embedding.\n",
    "\n",
    "## Permutation invariance and equivariance \n",
    "\n",
    "## \n",
    "\n",
    "## GNN training"
   ]
  }
 ],
 "metadata": {
  "kernelspec": {
   "display_name": "Python [conda env:base] *",
   "language": "python",
   "name": "conda-base-py"
  },
  "language_info": {
   "codemirror_mode": {
    "name": "ipython",
    "version": 3
   },
   "file_extension": ".py",
   "mimetype": "text/x-python",
   "name": "python",
   "nbconvert_exporter": "python",
   "pygments_lexer": "ipython3",
   "version": "3.12.4"
  }
 },
 "nbformat": 4,
 "nbformat_minor": 5
}
