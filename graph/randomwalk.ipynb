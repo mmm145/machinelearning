{
 "cells": [
  {
   "cell_type": "markdown",
   "id": "9c3e87bb-e66f-4a67-9c0f-548238cebbcc",
   "metadata": {},
   "source": [
    "# random walk\n",
    "\n",
    "- something like word2vec but for graph.\n",
    "\n",
    "\n",
    "# markov chain\n",
    "\n",
    "**markov chain**\n",
    "\n",
    "**formally**\n",
    "\n",
    "**key components**\n",
    "\n",
    "**transition probability matrix**\n",
    "\n",
    "**state distribution vector**\n",
    "\n",
    "**evolution of state distribution**\n",
    "\n",
    "**after k steps**\n",
    "\n",
    "**intuition**\n",
    "\n",
    "## finite markov chain\n",
    "\n",
    "**propeties of finite markov chain**\n",
    "\n",
    "## stationally distribution\n",
    "\n",
    "\n",
    "# random walk\n",
    "\n",
    "**process of tranversing graph randomly**\n",
    "\n",
    "- start at node v0\n",
    "- at each steps, move to randomly chosen neighbors.\n",
    "- transition probability = "
   ]
  }
 ],
 "metadata": {
  "kernelspec": {
   "display_name": "Python [conda env:base] *",
   "language": "python",
   "name": "conda-base-py"
  },
  "language_info": {
   "codemirror_mode": {
    "name": "ipython",
    "version": 3
   },
   "file_extension": ".py",
   "mimetype": "text/x-python",
   "name": "python",
   "nbconvert_exporter": "python",
   "pygments_lexer": "ipython3",
   "version": "3.12.4"
  }
 },
 "nbformat": 4,
 "nbformat_minor": 5
}
