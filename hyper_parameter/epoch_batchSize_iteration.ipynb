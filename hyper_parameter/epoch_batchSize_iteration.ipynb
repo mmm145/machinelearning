{
 "cells": [
  {
   "cell_type": "markdown",
   "id": "cf6f050a-c658-4270-9202-e073f9464f17",
   "metadata": {},
   "source": [
    "# batch size \n",
    "\n",
    "## what is batch size?\n",
    "\n",
    "- usually used for mini batch stocahstic gradient descent.\n",
    "  - 32, 64, 128, 256, 512, 1024, 2048 are the usual values for batch size.\n",
    "  - if the size of data is ?00 -> 32, 64 first\n",
    "  - if the size of data is ?0000 -> 1024 or 2048\n",
    " \n",
    "- batch size is the last hyper parameter to tune.\n",
    "\n",
    "## Iteration number \n",
    "\n",
    "- the number of training model even with batch sized data set. \n",
    "\n",
    "- iteration number = (the number of data) / (batch size)\n",
    "\n",
    "## epochs \n",
    "\n",
    "- the number of using all the data in data set.\n",
    "- in one epoch, you do (the number of data ) / (batch size) iteration\n",
    " "
   ]
  }
 ],
 "metadata": {
  "kernelspec": {
   "display_name": "Python 3 (ipykernel)",
   "language": "python",
   "name": "python3"
  },
  "language_info": {
   "codemirror_mode": {
    "name": "ipython",
    "version": 3
   },
   "file_extension": ".py",
   "mimetype": "text/x-python",
   "name": "python",
   "nbconvert_exporter": "python",
   "pygments_lexer": "ipython3",
   "version": "3.12.4"
  }
 },
 "nbformat": 4,
 "nbformat_minor": 5
}
