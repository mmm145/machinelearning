{
 "cells": [
  {
   "cell_type": "markdown",
   "id": "0b93dc4f-28a5-4c85-a1a2-0f9130cd339c",
   "metadata": {},
   "source": [
    "# hyper parameter tuning \n",
    "\n",
    "## benefits \n",
    "\n",
    "- improve the performance of model\n",
    "- regulate overfitting\n",
    "\n",
    "## steps\n",
    "1. choose metrics\n",
    "2. choose hyper parameter and range of value\n",
    "3. choose algorithm\n",
    "\n",
    "    - random search\n",
    "    - grid search\n",
    "    - baysian optimization\n",
    "    \n",
    "5. do cross validation\n",
    "6. compare score from train and test"
   ]
  }
 ],
 "metadata": {
  "kernelspec": {
   "display_name": "Python 3 (ipykernel)",
   "language": "python",
   "name": "python3"
  },
  "language_info": {
   "codemirror_mode": {
    "name": "ipython",
    "version": 3
   },
   "file_extension": ".py",
   "mimetype": "text/x-python",
   "name": "python",
   "nbconvert_exporter": "python",
   "pygments_lexer": "ipython3",
   "version": "3.12.4"
  }
 },
 "nbformat": 4,
 "nbformat_minor": 5
}
