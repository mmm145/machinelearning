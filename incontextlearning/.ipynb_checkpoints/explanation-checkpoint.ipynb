{
 "cells": [
  {
   "cell_type": "markdown",
   "id": "5fdaac53-84da-4d9c-8353-69d9fc97ae7f",
   "metadata": {},
   "source": [
    "# context learning\n",
    "\n",
    "## zero shot learning \n",
    "\n",
    "- labels in test data do not exist in training data.\n",
    "\n",
    "## few shot learning\n",
    "\n",
    "- using only a few data for training and testing.\n",
    "\n",
    "## prompting\n",
    "\n",
    "- to use large language model efficiently.\n",
    "- think about the good command.\n",
    "- "
   ]
  },
  {
   "cell_type": "markdown",
   "id": "aae67f39-7dcc-4323-93de-3fcccf706bdf",
   "metadata": {},
   "source": [
    "# comparison between fine tuning. \n"
   ]
  }
 ],
 "metadata": {
  "kernelspec": {
   "display_name": "Python 3 (ipykernel)",
   "language": "python",
   "name": "python3"
  },
  "language_info": {
   "codemirror_mode": {
    "name": "ipython",
    "version": 3
   },
   "file_extension": ".py",
   "mimetype": "text/x-python",
   "name": "python",
   "nbconvert_exporter": "python",
   "pygments_lexer": "ipython3",
   "version": "3.12.4"
  }
 },
 "nbformat": 4,
 "nbformat_minor": 5
}
