{
 "cells": [
  {
   "cell_type": "markdown",
   "id": "5fdaac53-84da-4d9c-8353-69d9fc97ae7f",
   "metadata": {},
   "source": [
    "# context learning\n",
    "\n",
    "## zero shot learning \n",
    "\n",
    "- labels in test data do not exist in training data.\n",
    "\n",
    "## few shot learning\n",
    "\n",
    "- using only a few data for training and testing.\n",
    "\n",
    "## prompting\n",
    "\n",
    "- to use large language model efficiently.\n",
    "- think about the good command.\n",
    "- "
   ]
  },
  {
   "cell_type": "markdown",
   "id": "aae67f39-7dcc-4323-93de-3fcccf706bdf",
   "metadata": {},
   "source": [
    "# comparison between supervised fine tuning and in context learning\n",
    "\n",
    "**given**\n",
    "\n",
    "- model that learned large data\n",
    "- small test data.\n",
    "\n",
    "**supervised fine tuning**\n",
    "\n",
    "- steps\n",
    "  - just supervised learning\n",
    "- pros\n",
    "  - standard ML recipe\n",
    "  - still works if N is large\n",
    "- cons\n",
    "  - time consuming\n",
    "  -  NN is black box \n",
    "\n",
    "**In-context learning**\n",
    "\n",
    "- command LLM with propmt\n",
    "- let LLM model to anticipate the pattern while learning.\n",
    "- take the output of the model following the prompt as its prediction\n",
    "- pros\n",
    "  - no back propagation\n",
    "  - only one pass\n",
    "  - no need for weight\n",
    "- cons\n",
    "  - for transformer, O(n^2)\n",
    "  - prompt might not fit into max context of a Transfomer LM.\n",
    " \n",
    "\n"
   ]
  }
 ],
 "metadata": {
  "kernelspec": {
   "display_name": "Python 3 (ipykernel)",
   "language": "python",
   "name": "python3"
  },
  "language_info": {
   "codemirror_mode": {
    "name": "ipython",
    "version": 3
   },
   "file_extension": ".py",
   "mimetype": "text/x-python",
   "name": "python",
   "nbconvert_exporter": "python",
   "pygments_lexer": "ipython3",
   "version": "3.12.4"
  }
 },
 "nbformat": 4,
 "nbformat_minor": 5
}
