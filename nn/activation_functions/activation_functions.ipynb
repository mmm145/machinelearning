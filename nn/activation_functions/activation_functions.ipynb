{
 "cells": [
  {
   "cell_type": "markdown",
   "id": "9fde2a48-7272-44e4-9f47-2737b7114677",
   "metadata": {},
   "source": [
    "# Activation functions\n",
    "\n",
    "activation function is used for capturing non-linearity of the output. \n",
    "\n",
    "**Type of Activation functions**\n",
    "\n",
    "- Relu\n",
    "- sigmoid\n",
    "  - \n",
    "- softmax\n",
    "  - $soft-max_i = \\frac{\\exp{a^i}}{\\sum_{j=1}^{c}\\exp{a^j}}$\n",
    "  - p(y = i / x, parameter ) = soft_max_i)\n",
    "- step\n",
    "- tanh\n",
    "\n",
    "**properties of activation function**\n",
    "\n",
    "- differentible.\n"
   ]
  },
  {
   "cell_type": "code",
   "execution_count": 15,
   "id": "7e1db8f7-72ec-4b1b-a439-34b00b7368d6",
   "metadata": {},
   "outputs": [],
   "source": [
    "import numpy as np\n",
    "import pandas as pd"
   ]
  },
  {
   "cell_type": "code",
   "execution_count": 19,
   "id": "616b2276-f8a5-4fdf-b4af-43797ed47a8e",
   "metadata": {},
   "outputs": [],
   "source": [
    "class activation:\n",
    "    @staticmethod\n",
    "    def heaviside_step(x):\n",
    "        \"\"\" heaviside step activation function \"\"\"\n",
    "        # if value >=0 then 1\n",
    "        # else 0\n",
    "        # and make the result into np.array\n",
    "        # [:,np.newaxis] means make it column vector.\n",
    "        print(\": heaviside_step function\")\n",
    "        return np.array([1 if i>=0 else 0 for i in x])[:,np.newaxis]"
   ]
  }
 ],
 "metadata": {
  "kernelspec": {
   "display_name": "Python 3 (ipykernel)",
   "language": "python",
   "name": "python3"
  },
  "language_info": {
   "codemirror_mode": {
    "name": "ipython",
    "version": 3
   },
   "file_extension": ".py",
   "mimetype": "text/x-python",
   "name": "python",
   "nbconvert_exporter": "python",
   "pygments_lexer": "ipython3",
   "version": "3.12.4"
  }
 },
 "nbformat": 4,
 "nbformat_minor": 5
}
