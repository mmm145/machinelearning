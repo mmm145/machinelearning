{
 "cells": [
  {
   "cell_type": "markdown",
   "id": "4794c0a1-cd1f-4e04-8fbd-04348709f03c",
   "metadata": {},
   "source": [
    "# intro\n",
    "\n",
    "## generalized linear model\n",
    "\n",
    "$y(\\boldsymbol{x}, \\boldsymbol{w})=f(\\sum_{j=1}^{M}w_j\\phi_j(\\boldsymbol{x}))$\n",
    "\n",
    "\n",
    "- $\\phi_j : R^{dimension-of-x}$-> $R$\n",
    "    - basis function\n",
    "    - ex)\n",
    " \n",
    "          - Gaussian RBF\n",
    "          - Sigmoidal function\n",
    "\n",
    "(Gaussian RBF is $\\phi(\\boldsymbol{x}) = exp\\{\\frac{-(\\boldsymbol{x}-c_k)^2}{2\\sigma^2}\\}$ )\n",
    "\n",
    "- $f(x) : R$ ->$R$\n",
    "    - activation function\n",
    "    - identity\n",
    "    - sigmoid\n",
    "    - tanh\n",
    "    - Relu ( good for vanishing gradient descent problem)\n",
    "    - soft max\n",
    " \n",
    "### when data gets larger and more complex\n",
    "\n",
    "- the number of coefficient get bigger -> hard to learn\n",
    "\n",
    "\n",
    "### neural network work well for this problem  ( SVM also works well for this problem) \n",
    "\n",
    "ex)\n",
    "\n",
    "if the true model is 1024 degree function\n",
    "\n",
    "#### with generalized linear model\n",
    "\n",
    "you need 1025 parameters $w_i(0 \\leq i \\leq1024)$\n",
    "\n",
    "\n",
    "#### with using deepness ( neural network ) \n",
    "\n",
    "if you use quadratic function once, you need 3 parameters\n",
    "and if you keep on calling quadratic function from quadratic function 10 times, you can get 1024 degree.\n",
    "This means the number of parameters you need is just 30.\n",
    "\n"
   ]
  },
  {
   "cell_type": "markdown",
   "id": "ef8c8389-8072-4b90-842b-36b242deef04",
   "metadata": {},
   "source": [
    "# basick architecture\n",
    "\n",
    "- input layer\n",
    "- hiddern layer(s)\n",
    "- output layer\n",
    "\n",
    "input data is $()$"
   ]
  },
  {
   "cell_type": "markdown",
   "id": "6c622d35-439e-41c9-8c6a-16990571c0b3",
   "metadata": {},
   "source": [
    "# training (backpropagation)"
   ]
  },
  {
   "cell_type": "markdown",
   "id": "7e00cac7-7d71-42d3-aaae-c1b583b4d305",
   "metadata": {},
   "source": [
    "# hyper parameters\n",
    "\n",
    "**train and test**\n",
    "- loss function\n",
    "- optimizer\n",
    "- number of epochs\n",
    "- number of samples\n",
    "\n",
    "**optimization**\n",
    "\n",
    "- learning rate"
   ]
  },
  {
   "cell_type": "markdown",
   "id": "d2aa3fa6-6e56-43e3-bb93-bc195c50b885",
   "metadata": {},
   "source": [
    "# neural network implementaion with xor data set."
   ]
  },
  {
   "cell_type": "markdown",
   "id": "9ba36b9b-b367-40bb-9cd1-e3d84a3cc6f1",
   "metadata": {},
   "source": [
    "## implementation from scratch "
   ]
  },
  {
   "cell_type": "code",
   "execution_count": 50,
   "id": "cd7b253c-0eaa-4c17-90f6-c4faaf63a9c0",
   "metadata": {},
   "outputs": [],
   "source": [
    "def one_hot_encode(y,num_class):\n",
    "    return np.identity(num_class)[y.astype(int)]\n"
   ]
  },
  {
   "cell_type": "code",
   "execution_count": 53,
   "id": "aaf617e6-7ee7-4be8-98d0-ed7fa0fb5cc6",
   "metadata": {},
   "outputs": [
    {
     "name": "stdout",
     "output_type": "stream",
     "text": [
      "Collecting import_ipynb\n",
      "  Downloading import_ipynb-0.2-py3-none-any.whl.metadata (2.3 kB)\n",
      "Requirement already satisfied: IPython in /opt/anaconda3/lib/python3.12/site-packages (from import_ipynb) (8.25.0)\n",
      "Requirement already satisfied: nbformat in /opt/anaconda3/lib/python3.12/site-packages (from import_ipynb) (5.9.2)\n",
      "Requirement already satisfied: decorator in /opt/anaconda3/lib/python3.12/site-packages (from IPython->import_ipynb) (5.1.1)\n",
      "Requirement already satisfied: jedi>=0.16 in /opt/anaconda3/lib/python3.12/site-packages (from IPython->import_ipynb) (0.18.1)\n",
      "Requirement already satisfied: matplotlib-inline in /opt/anaconda3/lib/python3.12/site-packages (from IPython->import_ipynb) (0.1.6)\n",
      "Requirement already satisfied: prompt-toolkit<3.1.0,>=3.0.41 in /opt/anaconda3/lib/python3.12/site-packages (from IPython->import_ipynb) (3.0.43)\n",
      "Requirement already satisfied: pygments>=2.4.0 in /opt/anaconda3/lib/python3.12/site-packages (from IPython->import_ipynb) (2.15.1)\n",
      "Requirement already satisfied: stack-data in /opt/anaconda3/lib/python3.12/site-packages (from IPython->import_ipynb) (0.2.0)\n",
      "Requirement already satisfied: traitlets>=5.13.0 in /opt/anaconda3/lib/python3.12/site-packages (from IPython->import_ipynb) (5.14.3)\n",
      "Requirement already satisfied: pexpect>4.3 in /opt/anaconda3/lib/python3.12/site-packages (from IPython->import_ipynb) (4.8.0)\n",
      "Requirement already satisfied: fastjsonschema in /opt/anaconda3/lib/python3.12/site-packages (from nbformat->import_ipynb) (2.16.2)\n",
      "Requirement already satisfied: jsonschema>=2.6 in /opt/anaconda3/lib/python3.12/site-packages (from nbformat->import_ipynb) (4.19.2)\n",
      "Requirement already satisfied: jupyter-core in /opt/anaconda3/lib/python3.12/site-packages (from nbformat->import_ipynb) (5.7.2)\n",
      "Requirement already satisfied: parso<0.9.0,>=0.8.0 in /opt/anaconda3/lib/python3.12/site-packages (from jedi>=0.16->IPython->import_ipynb) (0.8.3)\n",
      "Requirement already satisfied: attrs>=22.2.0 in /opt/anaconda3/lib/python3.12/site-packages (from jsonschema>=2.6->nbformat->import_ipynb) (23.1.0)\n",
      "Requirement already satisfied: jsonschema-specifications>=2023.03.6 in /opt/anaconda3/lib/python3.12/site-packages (from jsonschema>=2.6->nbformat->import_ipynb) (2023.7.1)\n",
      "Requirement already satisfied: referencing>=0.28.4 in /opt/anaconda3/lib/python3.12/site-packages (from jsonschema>=2.6->nbformat->import_ipynb) (0.30.2)\n",
      "Requirement already satisfied: rpds-py>=0.7.1 in /opt/anaconda3/lib/python3.12/site-packages (from jsonschema>=2.6->nbformat->import_ipynb) (0.10.6)\n",
      "Requirement already satisfied: ptyprocess>=0.5 in /opt/anaconda3/lib/python3.12/site-packages (from pexpect>4.3->IPython->import_ipynb) (0.7.0)\n",
      "Requirement already satisfied: wcwidth in /opt/anaconda3/lib/python3.12/site-packages (from prompt-toolkit<3.1.0,>=3.0.41->IPython->import_ipynb) (0.2.5)\n",
      "Requirement already satisfied: platformdirs>=2.5 in /opt/anaconda3/lib/python3.12/site-packages (from jupyter-core->nbformat->import_ipynb) (3.10.0)\n",
      "Requirement already satisfied: executing in /opt/anaconda3/lib/python3.12/site-packages (from stack-data->IPython->import_ipynb) (0.8.3)\n",
      "Requirement already satisfied: asttokens in /opt/anaconda3/lib/python3.12/site-packages (from stack-data->IPython->import_ipynb) (2.0.5)\n",
      "Requirement already satisfied: pure-eval in /opt/anaconda3/lib/python3.12/site-packages (from stack-data->IPython->import_ipynb) (0.2.2)\n",
      "Requirement already satisfied: six in /opt/anaconda3/lib/python3.12/site-packages (from asttokens->stack-data->IPython->import_ipynb) (1.16.0)\n",
      "Downloading import_ipynb-0.2-py3-none-any.whl (4.0 kB)\n",
      "Installing collected packages: import_ipynb\n",
      "Successfully installed import_ipynb-0.2\n",
      "Note: you may need to restart the kernel to use updated packages.\n"
     ]
    }
   ],
   "source": [
    "#pip install import_ipynb"
   ]
  },
  {
   "cell_type": "code",
   "execution_count": 57,
   "id": "ea76b10b-fdba-473f-80a4-9958b5630d45",
   "metadata": {},
   "outputs": [
    {
     "ename": "ModuleNotFoundError",
     "evalue": "No module named 'activation_functions'",
     "output_type": "error",
     "traceback": [
      "\u001b[0;31m---------------------------------------------------------------------------\u001b[0m",
      "\u001b[0;31mModuleNotFoundError\u001b[0m                       Traceback (most recent call last)",
      "Cell \u001b[0;32mIn[57], line 6\u001b[0m\n\u001b[1;32m      3\u001b[0m sys\u001b[38;5;241m.\u001b[39mpath\u001b[38;5;241m.\u001b[39mappend(\u001b[38;5;124m\"\u001b[39m\u001b[38;5;124m~/life/machinelearning/nn/\u001b[39m\u001b[38;5;124m\"\u001b[39m)\n\u001b[1;32m      5\u001b[0m \u001b[38;5;28;01mimport\u001b[39;00m \u001b[38;5;21;01mimport_ipynb\u001b[39;00m\n\u001b[0;32m----> 6\u001b[0m \u001b[38;5;28;01mimport\u001b[39;00m \u001b[38;5;21;01mactivation_functions\u001b[39;00m\n",
      "\u001b[0;31mModuleNotFoundError\u001b[0m: No module named 'activation_functions'"
     ]
    }
   ],
   "source": [
    "import sys\n",
    "\n",
    "sys.path.append(\"~/life/machinelearning/nn/\")\n",
    "\n",
    "import import_ipynb\n",
    "import activation_functions\n"
   ]
  },
  {
   "cell_type": "markdown",
   "id": "20c84b77-01d2-4b64-9e18-d6fce65c76e7",
   "metadata": {},
   "source": [
    "## with keras"
   ]
  },
  {
   "cell_type": "markdown",
   "id": "feb93876-462b-4947-8e81-2324078235e1",
   "metadata": {},
   "source": [
    "## with tensorflow"
   ]
  },
  {
   "cell_type": "markdown",
   "id": "55b4e01d-ce5d-4440-911a-6b27ce54c29a",
   "metadata": {},
   "source": [
    "## with pytorch"
   ]
  }
 ],
 "metadata": {
  "kernelspec": {
   "display_name": "Python 3 (ipykernel)",
   "language": "python",
   "name": "python3"
  },
  "language_info": {
   "codemirror_mode": {
    "name": "ipython",
    "version": 3
   },
   "file_extension": ".py",
   "mimetype": "text/x-python",
   "name": "python",
   "nbconvert_exporter": "python",
   "pygments_lexer": "ipython3",
   "version": "3.12.4"
  }
 },
 "nbformat": 4,
 "nbformat_minor": 5
}
