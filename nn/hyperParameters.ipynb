{
 "cells": [
  {
   "cell_type": "markdown",
   "id": "2d5fa993-cc62-453a-a48a-e4fea1b7ab24",
   "metadata": {},
   "source": [
    "\n",
    "# FNN \n",
    "\n",
    "## CNN\n",
    "\n",
    "# RNN"
   ]
  }
 ],
 "metadata": {
  "kernelspec": {
   "display_name": "Python 3 (ipykernel)",
   "language": "python",
   "name": "python3"
  },
  "language_info": {
   "codemirror_mode": {
    "name": "ipython",
    "version": 3
   },
   "file_extension": ".py",
   "mimetype": "text/x-python",
   "name": "python",
   "nbconvert_exporter": "python",
   "pygments_lexer": "ipython3",
   "version": "3.12.8"
  }
 },
 "nbformat": 4,
 "nbformat_minor": 5
}
