{
 "cells": [
  {
   "cell_type": "markdown",
   "id": "e4e73f62-599c-4ade-befd-0a955ce8daa9",
   "metadata": {},
   "source": [
    "https://www.geeksforgeeks.org/layers-in-artificial-neural-networks-ann/\n",
    "\n",
    "I will write about this when implementing each neural networks\n",
    "\n",
    "# basic layers\n",
    "\n",
    "## input layer\n",
    "## hidden layer\n",
    "\n",
    "- linear sum\n",
    "- activation function\n",
    "  - linear\n",
    "  - non-linear\n",
    "    - Relu\n",
    "    - Tanh\n",
    "    - sigmoid\n",
    "    - softmax\n",
    "    - .... more \n",
    "## output layer\n",
    "\n",
    "output the prediction\n",
    "\n",
    "- linear sum\n",
    "- activation function \n",
    "\n",
    "# types of hidden layers.\n",
    "\n",
    "## Dense ( fully connected layer) \n",
    "\n",
    "every nodes in dense layers are connected to previous nodes and subsequent layers.\n",
    "\n",
    "## Convolutinal \n",
    "## Reccurent \n",
    "## Dropout \n",
    "## Batch normalization "
   ]
  }
 ],
 "metadata": {
  "kernelspec": {
   "display_name": "Python 3 (ipykernel)",
   "language": "python",
   "name": "python3"
  },
  "language_info": {
   "codemirror_mode": {
    "name": "ipython",
    "version": 3
   },
   "file_extension": ".py",
   "mimetype": "text/x-python",
   "name": "python",
   "nbconvert_exporter": "python",
   "pygments_lexer": "ipython3",
   "version": "3.12.8"
  }
 },
 "nbformat": 4,
 "nbformat_minor": 5
}
