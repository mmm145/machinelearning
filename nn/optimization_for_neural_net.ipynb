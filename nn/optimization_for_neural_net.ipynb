{
 "cells": [
  {
   "cell_type": "markdown",
   "id": "13abd7f8-55b9-4482-8182-53a25a16a3a2",
   "metadata": {},
   "source": [
    "# type of optimization.\n",
    "\n",
    "\n",
    "**optimization algorithm**\n",
    "\n",
    "- Gradient Descent\n",
    "  - new parameter = old parameter - (learning rate)* (gradient of loss with regard to parameter)\n",
    "- Stochastic Gradient Descent (SGD) / batch size = 1 Mini Batch Gradient Descent.\n",
    "  - when calculating gradient, you pick pu one observation from all observation data.\n",
    "- Mini Batch Stochastic Gradient Descent (MB-SGD)\n",
    "- SGD with momentum\n",
    "- Nesterov Accelerated Gradient (NAG)\n",
    "- Adaptive Gradient (AdaGrad)\n",
    "- AdaDelta\n",
    "- RMSprop\n",
    "- Adam\n",
    "\n",
    "\n",
    "\n",
    "\n",
    "https://neptune.ai/blog/deep-learning-optimization-algorithms\n",
    "\n",
    "\n",
    "## Stochastic Gradient Descent \n",
    "\n",
    "**algorithm**\n",
    "\n",
    "- "
   ]
  },
  {
   "cell_type": "code",
   "execution_count": 17,
   "id": "161adbbc-b09a-48ae-8deb-f3120845f289",
   "metadata": {},
   "outputs": [],
   "source": [
    "import numpy as np\n",
    "import pandas as pd"
   ]
  },
  {
   "cell_type": "code",
   "execution_count": 15,
   "id": "cdf8e607-b3f0-41ca-ac87-15dffb98ddd8",
   "metadata": {},
   "outputs": [],
   "source": [
    "class optimization:\n",
    "    def __init__(self,lr=0.01,max_itr=100,tol=1e-5):\n",
    "        self.lr = lr\n",
    "        self.max_itr = max_itr\n",
    "        self.tol = tol\n",
    "        \n",
    "    def GD(self):\n",
    "        \"\"\" Gradient Descent function \"\"\"\n",
    "        print(\"gradient descent\")\n",
    "        return"
   ]
  }
 ],
 "metadata": {
  "kernelspec": {
   "display_name": "Python 3 (ipykernel)",
   "language": "python",
   "name": "python3"
  },
  "language_info": {
   "codemirror_mode": {
    "name": "ipython",
    "version": 3
   },
   "file_extension": ".py",
   "mimetype": "text/x-python",
   "name": "python",
   "nbconvert_exporter": "python",
   "pygments_lexer": "ipython3",
   "version": "3.12.4"
  }
 },
 "nbformat": 4,
 "nbformat_minor": 5
}
