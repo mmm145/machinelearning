{
 "cells": [
  {
   "cell_type": "markdown",
   "id": "93ff755f-4c0e-4ed2-848d-b0ce588bf323",
   "metadata": {},
   "source": [
    "# tensors\n",
    "\n",
    "like numpy, you can handle array, matrix.\n",
    "\n",
    "## compared to numpy \n",
    "\n",
    "- tensor can run on GPU\n",
    "- automatic differentiation ( Autograd section ) \n",
    "\n",
    "## initialization \n",
    "- torch.tensor( basic list of python )\n",
    "- torch.from_numpy(numpy array)\n",
    "- torch.ones_like(another tensor)\n",
    "- torch.rand_like(another tensor,dtype = )\n",
    "\n",
    "- shape is tuple of tensor\n",
    "- torch.rand(shape)\n",
    "- torch.randint(maximum, size=())\n",
    "- torch.ones(shape)\n",
    "- torch.zeros(shape)\n",
    "\n",
    "## attribute of tensors \n",
    "\n",
    "- torch.shape\n",
    "- torch.dtype\n",
    "- torch.device\n",
    "\n",
    "## change to GPU\n",
    "\n",
    "- if torch.cuda.is_available():\n",
    "  - tensor = tensor.to(\"cuda\")\n",
    "\n",
    "## operation on tensor \n",
    "\n",
    "- how to reference is similar to numpy (index/ slicing )\n",
    "\n",
    "## concatenate tensors \n",
    "- torch.cat\n",
    "  - dim = 0 >> row\n",
    "  - dim = 1 >> col\n",
    "  - dim = # >> the dim\n",
    "- torch.stack\n",
    "\n",
    "## Arithmetic operations\n",
    "\n",
    "- multiplication\n",
    "  - matrix multiplication - tensor.matmul = @ = torch.matmul(tensor1, tensor2, out = tensor)\n",
    "  - element wise multiplication - tensor.mul = * = torch.mul(tensor1,tensor2,out = tensor)\n",
    " \n",
    "- in place\n",
    "  - ex) tensor.add_(a) - add a to the all element of tensor\n",
    "\n",
    "\n",
    "## conversion between tensor and numpy \n",
    "\n",
    "- tensor to numpy\n",
    "  - tenosor.numpy() ( if you do n = t.numpy(), and you change t, then n got the same change)\n",
    "- numpy to tensor\n",
    "  - torch.from_numpy(numpy) ( if you do t = torch.from_numpy(n), change in n reflects on change in t)\n",
    "## tensor to scaler\n",
    "- .item()"
   ]
  },
  {
   "cell_type": "markdown",
   "id": "ba535a26-916b-4792-bc1b-d4ca38dedff0",
   "metadata": {},
   "source": [
    "# data set and data load \n",
    "\n",
    "## torch.utils.data.DataLoader\n",
    "## torch.utils.data.Dataset\n",
    "\n",
    "## datasets\n",
    "- torchvision\n",
    "\n",
    "\n",
    "**argument**\n",
    "\n",
    "- root = \"\" - path train/test data is stored\n",
    "- train = boolean - train data or test data\n",
    "- download  = boolean - download from internet or not if root does not have data \n",
    "- transform = \n",
    "- target_transform =\n",
    "\n",
    "## creating a custom data set for your file"
   ]
  },
  {
   "cell_type": "markdown",
   "id": "b06b6b92-4d00-49b0-a647-c1f957d6facb",
   "metadata": {},
   "source": [
    "# simple neural network "
   ]
  }
 ],
 "metadata": {
  "kernelspec": {
   "display_name": "Python 3 (ipykernel)",
   "language": "python",
   "name": "python3"
  },
  "language_info": {
   "codemirror_mode": {
    "name": "ipython",
    "version": 3
   },
   "file_extension": ".py",
   "mimetype": "text/x-python",
   "name": "python",
   "nbconvert_exporter": "python",
   "pygments_lexer": "ipython3",
   "version": "3.12.4"
  }
 },
 "nbformat": 4,
 "nbformat_minor": 5
}
