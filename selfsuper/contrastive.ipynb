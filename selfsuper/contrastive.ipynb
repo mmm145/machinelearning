{
 "cells": [
  {
   "cell_type": "markdown",
   "id": "3834ab30-83d2-4e97-a439-92437b6eb429",
   "metadata": {},
   "source": [
    "- I would like to \n",
    "\n",
    "# Contrastive learning\n",
    "\n",
    "- make the vector of similar input similar.\n",
    "  - \n",
    "\n",
    "- predict the relationships of multiple data samples\n",
    "  - sequence of words\n",
    "  - sentences\n",
    " \n",
    "  -  the data are different\n",
    "    - angle\n",
    "    - missing some part\n",
    "    - have noise\n",
    "    - splited\n",
    "## how \n",
    "- score functon - s\n",
    "- encoder - f\n",
    "-  reference sample - x\n",
    "-  positive sample x+\n",
    "-  negative sample x-\n",
    "\n",
    "-   x and x+ should be more similar to x and x-\n",
    "\n",
    "- s(f(x), f(x+)) >> s(f(x),f(x-))\n",
    "\n",
    "**approches**\n",
    "\n",
    "- Inter sample classification. \n",
    "- Feature clustering\n",
    "- Multiview coding\n",
    "\n",
    "## Inter sample classification \n",
    "\n",
    "- similar vs dissimilar\n",
    "  - this is classification.\n",
    " \n",
    "**loss function**\n",
    "\n",
    "- L (x, x+, x-) = sum  of all x ( max(0, L2(x - x+ )^2 - L2(x - x-)^2 + epsilon ) )\n",
    "  - epsilon is small value\n",
    "\n",
    "## Feature clustering\n",
    "\n",
    "## Multiview coding "
   ]
  },
  {
   "cell_type": "markdown",
   "id": "eaedfadb-64ac-4730-9238-539aef2b48a2",
   "metadata": {},
   "source": [
    "# SimCLR\n",
    "\n",
    "- based on CNN\n",
    "- self supervised or half supervised learning\n",
    "\n",
    "- arrange multiple type of image\n",
    "  - learning the similar image and different image\n",
    "  -  maximize the features between similar image\n",
    "  -  while\n",
    "  -  minimize the feature between different image \n",
    "  - by using data augumentation.\n",
    "    - randomly cutting out the image\n",
    "    - randomly changing the color of image.\n",
    "   \n",
    "**benefits**\n",
    "\n",
    "- easy\n",
    "  - you can integrate simCLR to the pipeline of supervised learning models. "
   ]
  },
  {
   "cell_type": "markdown",
   "id": "234c1425-e03a-4cd4-bdf8-0d9703c9e7b7",
   "metadata": {},
   "source": [
    "# Moco\n"
   ]
  },
  {
   "cell_type": "markdown",
   "id": "f7bdb050-5a44-4cfb-89a7-f08d6cd77ef8",
   "metadata": {},
   "source": [
    "# CPC\n",
    "\n",
    "- sequence level constractive learning.\n",
    "- from unrelated negative sample\n",
    "  - classify the future."
   ]
  },
  {
   "cell_type": "markdown",
   "id": "ad2d1240-86c9-4bda-8c8e-c747d733437c",
   "metadata": {},
   "source": [
    "# CLIP\n",
    "\n",
    "- for image classification\n",
    "- but\n",
    "- it can learn the new label with already trained model.\n",
    "\n",
    "- use\n",
    "  - text data\n",
    "  - image data.\n",
    "  - encode them\n",
    "  - and then\n",
    "    - think about the similarity. "
   ]
  },
  {
   "cell_type": "markdown",
   "id": "ad6b07d4-8d9c-4602-9ec3-12c25284465e",
   "metadata": {},
   "source": [
    "# BYOL"
   ]
  },
  {
   "cell_type": "markdown",
   "id": "9b248252-3671-47e3-8c04-59d53396a471",
   "metadata": {},
   "source": [
    "# DINO "
   ]
  }
 ],
 "metadata": {
  "kernelspec": {
   "display_name": "Python 3 (ipykernel)",
   "language": "python",
   "name": "python3"
  },
  "language_info": {
   "codemirror_mode": {
    "name": "ipython",
    "version": 3
   },
   "file_extension": ".py",
   "mimetype": "text/x-python",
   "name": "python",
   "nbconvert_exporter": "python",
   "pygments_lexer": "ipython3",
   "version": "3.12.4"
  }
 },
 "nbformat": 4,
 "nbformat_minor": 5
}
