{
 "cells": [
  {
   "cell_type": "markdown",
   "id": "52c118cf-7d86-42b0-bd78-a6a7d6a63635",
   "metadata": {},
   "source": [
    "# self supervised learning\n",
    "\n",
    "## motivation\n",
    "\n",
    "- recently, most deep learning uses labeled data\n",
    "- but\n",
    "  - exprensive\n",
    "  - time consuming\n",
    "  - expertise - dependent\n",
    "    - many domains require specialized knowledge\n",
    "\n",
    "## what is self supervised learning \n",
    "\n",
    "- uses unlabeled data to learn meaningful representation\n",
    "\n",
    "-  create supervision signals automatically from data itself through pretext tasks without manual labeling\n",
    "\n",
    "### how self-supervised learning learn\n",
    "\n",
    "- uses unlabeled data by creating automated supervised signals\n",
    "- learn representation from pretext tasks\n",
    "\n",
    "### how semi-supervised learning learn \n",
    "\n",
    "- uses small amount of labeled data and way larger unlabeled data\n",
    "- train with labeled data and unlabeled data at the same time. \n",
    "\n",
    "### model \n",
    "\n",
    "**type of model***\n",
    "\n",
    "- text/ symbol sequecen(discrete)\n",
    "  - future word prediction\n",
    "  - masked word prediction\n",
    "- image (continuous)\n",
    "  - Inpainting, colorization, super-resolution\n",
    "- video (continuous)\n",
    "  - future frame prediction\n",
    "  - masked frame prediction\n",
    "- signal / audio (continuous)\n",
    "  - restoration\n",
    "  - future prediction\n",
    "  - \n",
    "\n",
    "### assumption\n",
    "\n",
    "### parameter\n",
    "### hyper parameter\n",
    "\n",
    "## benefits \n",
    "\n",
    "- be able to traiin with very few amount of labeled data\n",
    "- it can apply the representaion from learn to another tasks.\n",
    "- cost-effective << by using a few amount of labeled data"
   ]
  }
 ],
 "metadata": {
  "kernelspec": {
   "display_name": "Python 3 (ipykernel)",
   "language": "python",
   "name": "python3"
  },
  "language_info": {
   "codemirror_mode": {
    "name": "ipython",
    "version": 3
   },
   "file_extension": ".py",
   "mimetype": "text/x-python",
   "name": "python",
   "nbconvert_exporter": "python",
   "pygments_lexer": "ipython3",
   "version": "3.12.4"
  }
 },
 "nbformat": 4,
 "nbformat_minor": 5
}
