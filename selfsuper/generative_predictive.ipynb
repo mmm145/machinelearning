{
 "cells": [
  {
   "cell_type": "markdown",
   "id": "3b58764d-9d9b-4b9b-855f-26bf6b30137c",
   "metadata": {},
   "source": [
    "# Generative / Predictive approaches. \n",
    "\n",
    "## self prediction \n",
    "\n",
    "- given data\n",
    "  - predict one part given the other part\n",
    "  - the part to be predicted is treated like missing\n",
    "\n",
    "**methods**\n",
    "- autoregressive generation\n",
    "  - predict future from past\n",
    "  - future is missing \n",
    "  - usually input is\n",
    "    - sequential data\n",
    "  - ex)\n",
    "    - Audio ( WaveNet, WaveRNN)\n",
    "    - Autoregressive language modeling (GPT, XLNet)\n",
    "    - Images in raster scan (PixelCNN, PixelRNN, iGPT) \n",
    "- masked generation\n",
    "  - predict masked information from unmasked information\n",
    "  -  Mask a random portion of information\n",
    "    - the random portion of information is missing\n",
    "  - ex)\n",
    "    - masked language modeling (BERT)\n",
    "    - images with masked patch\n",
    "      - denoising autoencoder, context autoencoer, colorization \n",
    "- innate relationship prediction\n",
    "  -  predict the innate relationship from transformed data\n",
    "    - ex)\n",
    "    - segmentation\n",
    "    - rotation\n"
   ]
  },
  {
   "cell_type": "markdown",
   "id": "7bca94ad-d422-4770-9f3e-e0c28c6cf1d5",
   "metadata": {},
   "source": []
  }
 ],
 "metadata": {
  "kernelspec": {
   "display_name": "Python 3 (ipykernel)",
   "language": "python",
   "name": "python3"
  },
  "language_info": {
   "codemirror_mode": {
    "name": "ipython",
    "version": 3
   },
   "file_extension": ".py",
   "mimetype": "text/x-python",
   "name": "python",
   "nbconvert_exporter": "python",
   "pygments_lexer": "ipython3",
   "version": "3.12.4"
  }
 },
 "nbformat": 4,
 "nbformat_minor": 5
}
