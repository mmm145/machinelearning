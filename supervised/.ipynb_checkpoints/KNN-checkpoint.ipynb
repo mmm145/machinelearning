{
 "cells": [
  {
   "cell_type": "markdown",
   "id": "4b0e204f-4830-4857-ac40-010b42d4119d",
   "metadata": {},
   "source": [
    "# KNN \n",
    "\n",
    "- supervised\n",
    "- non-parametric\n",
    "- classification\n",
    "- regression\n",
    "\n",
    "## assumption \n",
    "\n",
    "## advantage \n",
    "\n",
    "## disadvantage \n",
    "\n",
    "## algorithm \n",
    "\n",
    "## hyper parameters "
   ]
  }
 ],
 "metadata": {
  "kernelspec": {
   "display_name": "Python 3 (ipykernel)",
   "language": "python",
   "name": "python3"
  },
  "language_info": {
   "codemirror_mode": {
    "name": "ipython",
    "version": 3
   },
   "file_extension": ".py",
   "mimetype": "text/x-python",
   "name": "python",
   "nbconvert_exporter": "python",
   "pygments_lexer": "ipython3",
   "version": "3.12.4"
  }
 },
 "nbformat": 4,
 "nbformat_minor": 5
}
