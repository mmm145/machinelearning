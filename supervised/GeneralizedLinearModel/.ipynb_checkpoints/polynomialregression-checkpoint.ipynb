{
 "cells": [
  {
   "cell_type": "code",
   "execution_count": 1,
   "id": "857a31da-84bc-498b-a6e4-f34fadd8f148",
   "metadata": {},
   "outputs": [
    {
     "name": "stdout",
     "output_type": "stream",
     "text": [
      "True\n",
      "features ['MedInc', 'HouseAge', 'AveRooms', 'AveBedrms', 'Population', 'AveOccup', 'Latitude', 'Longitude']\n",
      "X_train data shape (16512, 8)\n",
      "y_train data shape (16512, 1)\n",
      "X_test data shape (4128, 8)\n",
      "y_test data shape (4128, 1)\n"
     ]
    }
   ],
   "source": [
    "from sklearn.datasets import fetch_california_housing\n",
    "from sklearn.model_selection import train_test_split\n",
    "\n",
    "import numpy as np \n",
    "import pandas as pd \n",
    "import matplotlib.pyplot as plt\n",
    "import seaborn as sns\n",
    "\n",
    "import time\n",
    "\n",
    "housing = fetch_california_housing()\n",
    "X,y = housing.data, housing.target\n",
    "print(isinstance(y,np.ndarray))\n",
    "\n",
    "feature_names = housing.feature_names\n",
    "print(\"features\",feature_names)\n",
    "\n",
    "X_train,X_test, y_train,y_test = train_test_split(X,y, test_size =0.2, random_state = 123)\n",
    "y_train = y_train.reshape(-1,1)\n",
    "y_test = y_test.reshape(-1,1)\n",
    "print(f\"X_train data shape {X_train.shape}\")\n",
    "print(f\"y_train data shape {y_train.shape}\")\n",
    "print(f\"X_test data shape {X_test.shape}\")\n",
    "print(f\"y_test data shape {y_test.shape}\")"
   ]
  },
  {
   "cell_type": "code",
   "execution_count": null,
   "id": "eb211d47-a79d-4761-b110-1e9d95231374",
   "metadata": {},
   "outputs": [],
   "source": [
    "def create_d(X,d):\n",
    "    # you can create \n",
    "    return np.hstack([X**i for i in range(1,d+1)])"
   ]
  }
 ],
 "metadata": {
  "kernelspec": {
   "display_name": "Python 3 (ipykernel)",
   "language": "python",
   "name": "python3"
  },
  "language_info": {
   "codemirror_mode": {
    "name": "ipython",
    "version": 3
   },
   "file_extension": ".py",
   "mimetype": "text/x-python",
   "name": "python",
   "nbconvert_exporter": "python",
   "pygments_lexer": "ipython3",
   "version": "3.12.4"
  }
 },
 "nbformat": 4,
 "nbformat_minor": 5
}
