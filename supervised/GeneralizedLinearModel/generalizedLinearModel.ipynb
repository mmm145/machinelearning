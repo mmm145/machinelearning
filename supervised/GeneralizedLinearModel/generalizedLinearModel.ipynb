{
 "cells": [
  {
   "cell_type": "markdown",
   "id": "20a4d20c-d0c6-499a-9ed1-bafc748a29d2",
   "metadata": {},
   "source": [
    "# Generalized Linear Model\n",
    "\n",
    "## 1. distribution of response variable\n",
    "\n",
    "\n",
    "### 1.? how to decide the distribution of response variable\n",
    "\n",
    "## 2.link function \n",
    "\n",
    "\n",
    "\n",
    "## 3.linear assumption \n",
    "\n",
    "- linearity\n",
    "- independence\n",
    "- constant variance\n",
    "- leverager / outlier \n",
    "-\n",
    "- multicolinerity\n",
    "\n",
    "## 4.model selection \n"
   ]
  }
 ],
 "metadata": {
  "kernelspec": {
   "display_name": "Python 3 (ipykernel)",
   "language": "python",
   "name": "python3"
  },
  "language_info": {
   "codemirror_mode": {
    "name": "ipython",
    "version": 3
   },
   "file_extension": ".py",
   "mimetype": "text/x-python",
   "name": "python",
   "nbconvert_exporter": "python",
   "pygments_lexer": "ipython3",
   "version": "3.12.4"
  }
 },
 "nbformat": 4,
 "nbformat_minor": 5
}
