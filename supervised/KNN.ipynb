{
 "cells": [
  {
   "cell_type": "markdown",
   "id": "4b0e204f-4830-4857-ac40-010b42d4119d",
   "metadata": {},
   "source": [
    "# KNN \n",
    "\n",
    "- supervised\n",
    "- non-parametric\n",
    "- classification\n",
    "- regression\n",
    "\n",
    "## assumption \n",
    "\n",
    "## advantage \n",
    "\n",
    "## disadvantage \n",
    "\n",
    "- 1. Curse of dimensionality\n",
    "    - when using KNN with high dimensionality, distance between all pair concentrate of the mean of the distance.\n",
    " \n",
    "    -  the higher volume, the less meaning for distance\n",
    "- not good for image classification\n",
    "      - the model classify all the images that has the same distance but different direction from true images into one classification.\n",
    "\n",
    "\n",
    "## data process before knn\n",
    "\n",
    "- scaling\n",
    "  - normalizing\n",
    "  - standardizing \n",
    "\n",
    "## algorithm \n",
    "\n",
    "## hyper parameters \n",
    "\n",
    "- k  number of nearest neighbers.\n",
    "  - the smaller k got, the more complex model gets.\n",
    "- "
   ]
  }
 ],
 "metadata": {
  "kernelspec": {
   "display_name": "Python 3 (ipykernel)",
   "language": "python",
   "name": "python3"
  },
  "language_info": {
   "codemirror_mode": {
    "name": "ipython",
    "version": 3
   },
   "file_extension": ".py",
   "mimetype": "text/x-python",
   "name": "python",
   "nbconvert_exporter": "python",
   "pygments_lexer": "ipython3",
   "version": "3.12.4"
  }
 },
 "nbformat": 4,
 "nbformat_minor": 5
}
