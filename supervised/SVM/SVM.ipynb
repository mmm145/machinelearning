{
 "cells": [
  {
   "cell_type": "markdown",
   "id": "b13d88a4-006d-4594-89c8-229ece2afe7b",
   "metadata": {},
   "source": [
    "# support vector machine\n",
    "\n",
    "- one of discriminant analysis\n",
    "- parametric\n",
    "- supervised\n",
    "- regression and classification\n",
    "- \n",
    "\n",
    "\n",
    "##\n",
    "\n",
    "\n",
    "## loss function \n",
    "\n",
    "- hinge loss function.\n",
    "  - \n",
    "\n",
    "## type of support vector machine\n",
    "\n",
    "- hard support vector machine\n",
    "- soft support vector machine\n",
    "\n",
    "\n",
    "\n",
    "\n",
    "\n",
    "## data preprocess before\n",
    "\n",
    "## hyper parameter\n",
    "\n",
    "- type of kernel\n",
    "  - linear kernel\n",
    "  - RBF kernel\n",
    "  - Polynomial kernel\n",
    "\n",
    "- C\n",
    "- Gamma\n",
    "- Degree\n",
    "\n",
    "#### how to tune hyper paramer \n",
    "\n",
    "- cross validation.\n",
    "- grid search.\n",
    "\n",
    "are there any other? (12/31)\n",
    "\n",
    "\n",
    "## algorithm \n",
    "\n"
   ]
  }
 ],
 "metadata": {
  "kernelspec": {
   "display_name": "Python 3 (ipykernel)",
   "language": "python",
   "name": "python3"
  },
  "language_info": {
   "codemirror_mode": {
    "name": "ipython",
    "version": 3
   },
   "file_extension": ".py",
   "mimetype": "text/x-python",
   "name": "python",
   "nbconvert_exporter": "python",
   "pygments_lexer": "ipython3",
   "version": "3.12.4"
  }
 },
 "nbformat": 4,
 "nbformat_minor": 5
}
