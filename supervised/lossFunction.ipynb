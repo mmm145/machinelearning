{
 "cells": [
  {
   "cell_type": "markdown",
   "id": "1f4c37e2-3181-4f7b-8c32-5d2fcdfac02f",
   "metadata": {},
   "source": [
    "# Loss function\n",
    "\n",
    "to evalueate how close the prediction and true value\n",
    "\n",
    "we usually want to minimize the loss function \n",
    "\n",
    "## regression \n",
    "\n",
    "- MSE (L2 loss)\n",
    "  \n",
    "    -  mean of sum of (true - pred)**2\n",
    "    -  easy to get derivative\n",
    "    -  penalize the outlier because of squared more <<< how to detect outliers\n",
    " \n",
    "    \n",
    "- MAE (L1 loss)\n",
    "  \n",
    "    - mean of sum of absolute of (true - pred)\n",
    " \n",
    "    -   not penalize the outlier <<< how to detect outliers \n",
    " \n",
    "    -    can not get derivative\n",
    "    -    \n",
    "- MBE (mean bias error)\n",
    "\n",
    "  - mean of sum of (true - pred)\n",
    " \n",
    "  -   plus and minus cancel out\n",
    " \n",
    "  -    to detect positive bias and negative bias of machine learning model ?(1/8)\n",
    "## classification \n"
   ]
  }
 ],
 "metadata": {
  "kernelspec": {
   "display_name": "Python 3 (ipykernel)",
   "language": "python",
   "name": "python3"
  },
  "language_info": {
   "codemirror_mode": {
    "name": "ipython",
    "version": 3
   },
   "file_extension": ".py",
   "mimetype": "text/x-python",
   "name": "python",
   "nbconvert_exporter": "python",
   "pygments_lexer": "ipython3",
   "version": "3.12.4"
  }
 },
 "nbformat": 4,
 "nbformat_minor": 5
}
