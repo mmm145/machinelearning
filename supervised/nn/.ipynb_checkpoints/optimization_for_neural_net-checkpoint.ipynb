{
 "cells": [
  {
   "cell_type": "markdown",
   "id": "13abd7f8-55b9-4482-8182-53a25a16a3a2",
   "metadata": {},
   "source": [
    "# type of optimization.\n",
    "\n",
    "\n",
    "**optimization algorithm**\n",
    "\n",
    "- Gradient Descent\n",
    "- Stochastic Gradient Descent (SGD)\n",
    "- Mini Batch Stochastic Gradient Descent (MB-SGD)\n",
    "- SGD with momentum\n",
    "- Nesterov Accelerated Gradient (NAG)\n",
    "- Adaptive Gradient (AdaGrad)\n",
    "- AdaDelta\n",
    "- RMSprop\n",
    "- Adam\n",
    "\n",
    "\n",
    "\n",
    "https://neptune.ai/blog/deep-learning-optimization-algorithms"
   ]
  },
  {
   "cell_type": "code",
   "execution_count": null,
   "id": "cdf8e607-b3f0-41ca-ac87-15dffb98ddd8",
   "metadata": {},
   "outputs": [],
   "source": [
    "class optimization:\n",
    "\n",
    "    @staticmethod\n",
    "    def GD():\n",
    "        print(\"gradient descent\")\n",
    "        return"
   ]
  }
 ],
 "metadata": {
  "kernelspec": {
   "display_name": "Python 3 (ipykernel)",
   "language": "python",
   "name": "python3"
  },
  "language_info": {
   "codemirror_mode": {
    "name": "ipython",
    "version": 3
   },
   "file_extension": ".py",
   "mimetype": "text/x-python",
   "name": "python",
   "nbconvert_exporter": "python",
   "pygments_lexer": "ipython3",
   "version": "3.12.4"
  }
 },
 "nbformat": 4,
 "nbformat_minor": 5
}
