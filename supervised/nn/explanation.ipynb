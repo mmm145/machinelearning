{
 "cells": [
  {
   "cell_type": "markdown",
   "id": "73c33da8-3027-44b6-9fa7-8e496105b38a",
   "metadata": {},
   "source": [
    "# Neural Network\n",
    "\n",
    "## type of nn\n",
    "\n",
    "- CNN\n",
    "- RNN\n",
    "\n",
    "## purpose \n",
    "\n",
    "- wanna know a non-linear decesion boundary\n",
    "  - by combining the linear decesion boundary\n",
    " \n",
    "\n",
    "## layers of NN \n",
    "\n",
    "\n",
    "## inductive bias \n",
    "\n",
    "- the assumption each model have so that the model works well\n",
    "  - conditional independent and naive bayse theorem for naive bayse classifier.\n",
    "  - spliting data hierarchically for deceion tree\n",
    "  - linearly separable data in feature space for logistic regression.\n",
    " \n",
    "  -  In CNN, it is composed of local integration, and it should merge the prior local feature layers.\n",
    "\n",
    "\n",
    ">>> from data, we should come up with proper inductive bias, and then choose the proper algorithm\n",
    "\n",
    " \n",
    "**benefits from inductive bias**\n",
    "\n",
    "- effective computation\n",
    "  - Inductive bias limit hypothesis space that should be trained, which makes it easier to calculate.\n",
    " \n",
    "- small data set for learning\n",
    "  - size of data set can be small thanks to the inductive bias\n",
    "\n",
    "- more effective generalization\n",
    "  - Inductive bias provides the more accurate prediction on unknown data, especially the unknown data can be created based on Inductive bias.\n",
    " \n",
    "- prior integration of knowledge.\n",
    "  - Inductive bias can include the knowledge that is unique to the specific task and filed, which leads to the more accurate prediction and efficitnet training.\n",
    "\n",
    "- easy interpretation\n",
    "  - like decision tree/ linear regression...\n",
    "\n",
    "### inductive bias and LLM\n",
    "\n",
    "LLM is usually used by transformers, which means it has a few inductive bias.\n",
    "=> LLM needs a large amount of data to predict accurately enough. \n",
    "\n",
    "the larger the data set, the better transformer performs,\n",
    "=> when the data set is large, transformer is the best choice. \n"
   ]
  },
  {
   "cell_type": "code",
   "execution_count": null,
   "id": "19f468ba-d524-4a8f-a0c1-bf605a43b14a",
   "metadata": {},
   "outputs": [],
   "source": []
  }
 ],
 "metadata": {
  "kernelspec": {
   "display_name": "Python 3 (ipykernel)",
   "language": "python",
   "name": "python3"
  },
  "language_info": {
   "codemirror_mode": {
    "name": "ipython",
    "version": 3
   },
   "file_extension": ".py",
   "mimetype": "text/x-python",
   "name": "python",
   "nbconvert_exporter": "python",
   "pygments_lexer": "ipython3",
   "version": "3.12.4"
  }
 },
 "nbformat": 4,
 "nbformat_minor": 5
}
