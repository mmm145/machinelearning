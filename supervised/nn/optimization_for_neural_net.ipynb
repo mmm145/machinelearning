{
 "cells": [
  {
   "cell_type": "markdown",
   "id": "13abd7f8-55b9-4482-8182-53a25a16a3a2",
   "metadata": {},
   "source": [
    "# type of optimization.\n",
    "\n",
    "Gradient Descent\n",
    "\n",
    "Stochastic Gradient Descent (SGD)\n",
    "\n",
    "Mini Batch Stochastic Gradient Descent (MB-SGD)\n",
    "\n",
    "SGD with momentum\n",
    "\n",
    "Nesterov Accelerated Gradient (NAG)\n",
    "\n",
    "Adaptive Gradient (AdaGrad)\n",
    "\n",
    "AdaDelta\n",
    "\n",
    "RMSprop\n",
    "\n",
    "Adam"
   ]
  }
 ],
 "metadata": {
  "kernelspec": {
   "display_name": "Python 3 (ipykernel)",
   "language": "python",
   "name": "python3"
  },
  "language_info": {
   "codemirror_mode": {
    "name": "ipython",
    "version": 3
   },
   "file_extension": ".py",
   "mimetype": "text/x-python",
   "name": "python",
   "nbconvert_exporter": "python",
   "pygments_lexer": "ipython3",
   "version": "3.12.4"
  }
 },
 "nbformat": 4,
 "nbformat_minor": 5
}
