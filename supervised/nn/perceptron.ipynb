{
 "cells": [
  {
   "cell_type": "markdown",
   "id": "c584d448-be8b-4ad2-8f13-e98fee61fde8",
   "metadata": {},
   "source": [
    "# perceptron\n",
    "\n",
    "perceptron is used for binary linear classifier \n",
    "\n",
    "{}"
   ]
  }
 ],
 "metadata": {
  "kernelspec": {
   "display_name": "Python 3 (ipykernel)",
   "language": "python",
   "name": "python3"
  },
  "language_info": {
   "codemirror_mode": {
    "name": "ipython",
    "version": 3
   },
   "file_extension": ".py",
   "mimetype": "text/x-python",
   "name": "python",
   "nbconvert_exporter": "python",
   "pygments_lexer": "ipython3",
   "version": "3.12.4"
  }
 },
 "nbformat": 4,
 "nbformat_minor": 5
}
