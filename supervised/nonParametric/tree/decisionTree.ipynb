{
 "cells": [
  {
   "cell_type": "markdown",
   "id": "0c3c725d-db1d-49ee-8e93-3f1298b0e8d4",
   "metadata": {},
   "source": [
    "# decision tree\n",
    "\n",
    "\n",
    "## how \n",
    "\n",
    "### decesion tree devide the feature space.\n",
    "\n",
    "- each rectangle is equivalent to category\n",
    "\n",
    "### learning \n",
    "\n",
    "- NP- complete problem\n",
    "  - you can not take derivative, so you can not do gradient based approach.\n",
    "\n",
    "\n",
    "## Recursive construction \n",
    "\n",
    "tree = (root, subtree) \n",
    "\n",
    "- G(x) = sum {c = 1 to C}\n",
    "\n",
    "## \n",
    "\n",
    "## hyper parameter \n",
    "\n"
   ]
  }
 ],
 "metadata": {
  "kernelspec": {
   "display_name": "Python 3 (ipykernel)",
   "language": "python",
   "name": "python3"
  },
  "language_info": {
   "codemirror_mode": {
    "name": "ipython",
    "version": 3
   },
   "file_extension": ".py",
   "mimetype": "text/x-python",
   "name": "python",
   "nbconvert_exporter": "python",
   "pygments_lexer": "ipython3",
   "version": "3.12.4"
  }
 },
 "nbformat": 4,
 "nbformat_minor": 5
}
