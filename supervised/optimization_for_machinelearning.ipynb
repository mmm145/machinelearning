{
 "cells": [
  {
   "cell_type": "markdown",
   "id": "fea98ff3-40e3-422f-a49d-79440de3979b",
   "metadata": {},
   "source": [
    "# optimization for machine learning\n",
    "\n",
    "**methods**\n",
    "\n",
    "- Gradient descent\n",
    "- Stochastic Gradient Descent.\n",
    "- min batch stochastic gradient descent\n",
    "- \n",
    "\n",
    "\n",
    "https://www.geeksforgeeks.org/optimization-algorithms-in-machine-learning/"
   ]
  },
  {
   "cell_type": "markdown",
   "id": "ade3c712-ca9c-4c67-9598-7d345cb919fd",
   "metadata": {},
   "source": [
    "# Gradient Descent "
   ]
  },
  {
   "cell_type": "markdown",
   "id": "84947bd0-38ee-4316-b2de-4d597289c170",
   "metadata": {},
   "source": [
    "# Stochastic Gradient Descent"
   ]
  }
 ],
 "metadata": {
  "kernelspec": {
   "display_name": "Python 3 (ipykernel)",
   "language": "python",
   "name": "python3"
  },
  "language_info": {
   "codemirror_mode": {
    "name": "ipython",
    "version": 3
   },
   "file_extension": ".py",
   "mimetype": "text/x-python",
   "name": "python",
   "nbconvert_exporter": "python",
   "pygments_lexer": "ipython3",
   "version": "3.12.4"
  }
 },
 "nbformat": 4,
 "nbformat_minor": 5
}
