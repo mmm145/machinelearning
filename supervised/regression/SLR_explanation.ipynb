{
 "cells": [
  {
   "cell_type": "markdown",
   "id": "386aacb6-325b-44d9-9864-29577b1d65ef",
   "metadata": {},
   "source": [
    "\n",
    "# loss function \n",
    "## assumption \n",
    "## diagnosis \n",
    "## Least Square \n",
    "\n",
    "### how to get parameter when using least square.\n",
    "\n",
    "## Least absolute deviation \n",
    "\n",
    "## to deal with overfitting\n",
    "\n",
    "### regularization\n",
    "\n",
    "- lasso\n",
    "  - adding l1 regularization\n",
    "  - hyper parameter for coefficient lambda is added\n",
    "  - $\\lambda * (L1-norm(parameters))$\n",
    "- ridge\n",
    "  - adding l2 regularization\n",
    "  - you can not use this for feature selection\n",
    "  -  hyper parameter for coefficient lambda is added\n",
    "  -  $\\frac{\\lambda}{2} (L2-norm(parameter))^2$\n",
    "- elastic net\n",
    "  - combination of lasso and ridge\n",
    "  - when using for feature selection, elastic net considers\n",
    "  - hyper parameter for coefficient alpha is added."
   ]
  }
 ],
 "metadata": {
  "kernelspec": {
   "display_name": "Python 3 (ipykernel)",
   "language": "python",
   "name": "python3"
  },
  "language_info": {
   "codemirror_mode": {
    "name": "ipython",
    "version": 3
   },
   "file_extension": ".py",
   "mimetype": "text/x-python",
   "name": "python",
   "nbconvert_exporter": "python",
   "pygments_lexer": "ipython3",
   "version": "3.12.4"
  }
 },
 "nbformat": 4,
 "nbformat_minor": 5
}
