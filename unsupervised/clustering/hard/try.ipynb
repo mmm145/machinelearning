{
 "cells": [
  {
   "cell_type": "code",
   "execution_count": 145,
   "id": "82c0b1f9-1e11-44c3-b427-369723965609",
   "metadata": {},
   "outputs": [],
   "source": [
    "import numpy as np\n",
    "import matplotlib.pyplot as plt\n",
    "import pandas as pd\n",
    "\n",
    "%matplotlib inline"
   ]
  },
  {
   "cell_type": "code",
   "execution_count": 147,
   "id": "23a93808-5a03-4e5a-86f1-f2e70a93eff1",
   "metadata": {},
   "outputs": [],
   "source": [
    "x = [[5.9,3.2],\n",
    "     [4.6,2.9],\n",
    "     [6.2,2.8],\n",
    "     [4.7,3.2],\n",
    "     [5.5,4.2],\n",
    "     [5.0,3.0],\n",
    "     [4.9,3.1],\n",
    "     [6.7,3.1],\n",
    "     [5.1,3.8],\n",
    "     [6.0,3.0]\n",
    "    ]"
   ]
  },
  {
   "cell_type": "code",
   "execution_count": 149,
   "id": "ec3427d1-1b68-4ca8-be75-d2c12a6038e8",
   "metadata": {},
   "outputs": [],
   "source": [
    "x = np.array(x)"
   ]
  },
  {
   "cell_type": "code",
   "execution_count": 151,
   "id": "27b88bda-5e8d-4eda-a417-5245c57dc9ef",
   "metadata": {},
   "outputs": [
    {
     "data": {
      "text/plain": [
       "<matplotlib.collections.PathCollection at 0x15cba32c0>"
      ]
     },
     "execution_count": 151,
     "metadata": {},
     "output_type": "execute_result"
    },
    {
     "data": {
      "image/png": "[encoded data removed]",
      "text/plain": [
       "<Figure size 640x480 with 1 Axes>"
      ]
     },
     "metadata": {},
     "output_type": "display_data"
    }
   ],
   "source": [
    "plt.scatter(x[:,0],x[:,1])"
   ]
  },
  {
   "cell_type": "code",
   "execution_count": 153,
   "id": "2da49560-e9e9-433f-980f-dd78067e1087",
   "metadata": {},
   "outputs": [],
   "source": [
    "def dist(x,m):\n",
    "    return (x[:,0]-m[0])**2 + (x[:,1]-m[1])**2"
   ]
  },
  {
   "cell_type": "code",
   "execution_count": 155,
   "id": "53745a35-37ef-457d-8d73-6e5d24f2a583",
   "metadata": {},
   "outputs": [],
   "source": [
    "ms = [\n",
    "    [6.2, 3.2],\n",
    "    [6.6, 3.7],\n",
    "    [6.5, 3.0]\n",
    "]\n",
    "ms = np.array(ms)\n",
    "dists = np.array([dist(x,m) for m in ms])"
   ]
  },
  {
   "cell_type": "code",
   "execution_count": 157,
   "id": "72eb420c-3f64-430d-8501-9831afeedf26",
   "metadata": {},
   "outputs": [
    {
     "data": {
      "text/plain": [
       "array([[0.09, 2.65, 0.16, 2.25, 1.49, 1.48, 1.7 , 0.26, 1.57, 0.08],\n",
       "       [0.74, 4.64, 0.97, 3.86, 1.46, 3.05, 3.25, 0.37, 2.26, 0.85],\n",
       "       [0.4 , 3.62, 0.13, 3.28, 2.44, 2.25, 2.57, 0.05, 2.6 , 0.25]])"
      ]
     },
     "execution_count": 157,
     "metadata": {},
     "output_type": "execute_result"
    }
   ],
   "source": [
    "dists"
   ]
  },
  {
   "cell_type": "code",
   "execution_count": 159,
   "id": "c4eabc77-a231-436c-a295-6caf1c31af7a",
   "metadata": {},
   "outputs": [],
   "source": [
    "dists = dists.T"
   ]
  },
  {
   "cell_type": "code",
   "execution_count": 161,
   "id": "b593df77-b19e-4799-9f61-91f1df6dacf3",
   "metadata": {},
   "outputs": [
    {
     "data": {
      "text/plain": [
       "array([[0.09, 0.74, 0.4 ],\n",
       "       [2.65, 4.64, 3.62],\n",
       "       [0.16, 0.97, 0.13],\n",
       "       [2.25, 3.86, 3.28],\n",
       "       [1.49, 1.46, 2.44],\n",
       "       [1.48, 3.05, 2.25],\n",
       "       [1.7 , 3.25, 2.57],\n",
       "       [0.26, 0.37, 0.05],\n",
       "       [1.57, 2.26, 2.6 ],\n",
       "       [0.08, 0.85, 0.25]])"
      ]
     },
     "execution_count": 161,
     "metadata": {},
     "output_type": "execute_result"
    }
   ],
   "source": [
    "dists"
   ]
  },
  {
   "cell_type": "code",
   "execution_count": 163,
   "id": "184d58a9-11a5-47dc-97f9-49a950bd7ba3",
   "metadata": {},
   "outputs": [
    {
     "data": {
      "text/plain": [
       "array([0, 0, 2, 0, 1, 0, 0, 2, 0, 0])"
      ]
     },
     "execution_count": 163,
     "metadata": {},
     "output_type": "execute_result"
    }
   ],
   "source": [
    "cents = np.argmin(dists,axis = 1)\n",
    "cents"
   ]
  },
  {
   "cell_type": "code",
   "execution_count": 165,
   "id": "769ef0be-d7d1-494b-a174-546004724221",
   "metadata": {},
   "outputs": [],
   "source": [
    "def which(l,c):\n",
    "    return [i for i,l in enumerate(l) if l == c]"
   ]
  },
  {
   "cell_type": "code",
   "execution_count": 167,
   "id": "e203ecc4-dc98-4248-8f42-46b9e88a7633",
   "metadata": {},
   "outputs": [
    {
     "data": {
      "text/plain": [
       "[0, 1, 3, 5, 6, 8, 9]"
      ]
     },
     "execution_count": 167,
     "metadata": {},
     "output_type": "execute_result"
    }
   ],
   "source": [
    "idx0 = which(cents,0)\n",
    "idx0"
   ]
  },
  {
   "cell_type": "code",
   "execution_count": 169,
   "id": "b417f8a2-ea2e-4dbf-9737-763e9cea7e33",
   "metadata": {},
   "outputs": [
    {
     "data": {
      "text/plain": [
       "array([[5.9, 3.2],\n",
       "       [4.6, 2.9],\n",
       "       [4.7, 3.2],\n",
       "       [5. , 3. ],\n",
       "       [4.9, 3.1],\n",
       "       [5.1, 3.8],\n",
       "       [6. , 3. ]])"
      ]
     },
     "execution_count": 169,
     "metadata": {},
     "output_type": "execute_result"
    }
   ],
   "source": [
    "x[idx0]"
   ]
  },
  {
   "cell_type": "code",
   "execution_count": 171,
   "id": "287c6d93-95c3-4a4c-9509-eab6bcc2e0d7",
   "metadata": {},
   "outputs": [
    {
     "data": {
      "text/plain": [
       "array([5.17142857, 3.17142857])"
      ]
     },
     "execution_count": 171,
     "metadata": {},
     "output_type": "execute_result"
    }
   ],
   "source": [
    "np.mean(x[idx0],axis = 0)"
   ]
  },
  {
   "cell_type": "code",
   "execution_count": 223,
   "id": "9420ec78-3ab4-4360-be5f-30dfe5301345",
   "metadata": {},
   "outputs": [],
   "source": [
    "def dist(x, m):\n",
    "    return (x[:, 0] - m[0])**2 + (x[:, 1] - m[1])**2\n",
    "\n",
    "def which(arr, val):\n",
    "    return np.where(arr == val)[0]\n",
    "\n",
    "def kmeans(x, k=3, itr=10, tol = 1e-10):\n",
    "    # Initial centroids\n",
    "    ms = np.array([\n",
    "        [6.2, 3.2],\n",
    "        [6.6, 3.7],\n",
    "        [6.5, 3.0]\n",
    "    ])\n",
    "\n",
    "    for it in range(itr):\n",
    "        print(f\"Iteration {it}\")\n",
    "        pre = ms\n",
    "        # Compute distances from points to each centroid\n",
    "        dists = np.array([dist(x, m) for m in ms]).T\n",
    "        print(\"-----------distance-----------\")\n",
    "        print(dists)\n",
    "        print(\"-----------------------------\")\n",
    "        # Assign each point to the nearest centroid\n",
    "        cents = np.argmin(dists, axis=1)\n",
    "\n",
    "        # Group point indices by their assigned centroid\n",
    "        idxs = [[] for _ in range(k)]\n",
    "        for i in range(k):\n",
    "            idxs[i] = which(cents, i)\n",
    "            print(f\"the cluster {i} has {len(idxs[i])} points\")\n",
    "            print(f\"indexs are {idxs[i]}\")\n",
    "            if len(idxs[i]) > 0:\n",
    "                ms[i] = np.mean(x[idxs[i]], axis=0)\n",
    "\n",
    "            print(f\"Centroid {i}: {ms[i]}\")\n",
    "        \"\"\"\n",
    "        if np.all(np.linalg.norm(ms - pre, axis=1) < tol):\n",
    "            print(f\"Converged at iteration {it}\")\n",
    "            break\n",
    "        \"\"\"\n",
    "    return ms, cents\n"
   ]
  },
  {
   "cell_type": "code",
   "execution_count": 225,
   "id": "a9c65545-c114-4a9d-ae74-7364c7c8354e",
   "metadata": {},
   "outputs": [
    {
     "name": "stdout",
     "output_type": "stream",
     "text": [
      "Iteration 0\n",
      "-----------distance-----------\n",
      "[[0.09 0.74 0.4 ]\n",
      " [2.65 4.64 3.62]\n",
      " [0.16 0.97 0.13]\n",
      " [2.25 3.86 3.28]\n",
      " [1.49 1.46 2.44]\n",
      " [1.48 3.05 2.25]\n",
      " [1.7  3.25 2.57]\n",
      " [0.26 0.37 0.05]\n",
      " [1.57 2.26 2.6 ]\n",
      " [0.08 0.85 0.25]]\n",
      "-----------------------------\n",
      "the cluster 0 has 7 points\n",
      "indexs are [0 1 3 5 6 8 9]\n",
      "Centroid 0: [5.17142857 3.17142857]\n",
      "the cluster 1 has 1 points\n",
      "indexs are [4]\n",
      "Centroid 1: [5.5 4.2]\n",
      "the cluster 2 has 2 points\n",
      "indexs are [2 7]\n",
      "Centroid 2: [6.45 2.95]\n",
      "Iteration 1\n",
      "-----------distance-----------\n",
      "[[0.53163265 1.16       0.365     ]\n",
      " [0.40020408 2.5        3.425     ]\n",
      " [1.19591837 2.45       0.085     ]\n",
      " [0.22306122 1.64       3.125     ]\n",
      " [1.16591837 0.         2.465     ]\n",
      " [0.05877551 1.69       2.105     ]\n",
      " [0.07877551 1.57       2.425     ]\n",
      " [2.34163265 2.65       0.085     ]\n",
      " [0.40020408 0.32       2.545     ]\n",
      " [0.71591837 1.69       0.205     ]]\n",
      "-----------------------------\n",
      "the cluster 0 has 4 points\n",
      "indexs are [1 3 5 6]\n",
      "Centroid 0: [4.8  3.05]\n",
      "the cluster 1 has 2 points\n",
      "indexs are [4 8]\n",
      "Centroid 1: [5.3 4. ]\n",
      "the cluster 2 has 4 points\n",
      "indexs are [0 2 7 9]\n",
      "Centroid 2: [6.2   3.025]\n",
      "Iteration 2\n",
      "-----------distance-----------\n",
      "[[1.2325   1.       0.120625]\n",
      " [0.0625   1.7      2.575625]\n",
      " [2.0225   2.25     0.050625]\n",
      " [0.0325   1.       2.280625]\n",
      " [1.8125   0.08     1.870625]\n",
      " [0.0425   1.09     1.440625]\n",
      " [0.0125   0.97     1.695625]\n",
      " [3.6125   2.77     0.255625]\n",
      " [0.6525   0.08     1.810625]\n",
      " [1.4425   1.49     0.040625]]\n",
      "-----------------------------\n",
      "the cluster 0 has 4 points\n",
      "indexs are [1 3 5 6]\n",
      "Centroid 0: [4.8  3.05]\n",
      "the cluster 1 has 2 points\n",
      "indexs are [4 8]\n",
      "Centroid 1: [5.3 4. ]\n",
      "the cluster 2 has 4 points\n",
      "indexs are [0 2 7 9]\n",
      "Centroid 2: [6.2   3.025]\n",
      "Iteration 3\n",
      "-----------distance-----------\n",
      "[[1.2325   1.       0.120625]\n",
      " [0.0625   1.7      2.575625]\n",
      " [2.0225   2.25     0.050625]\n",
      " [0.0325   1.       2.280625]\n",
      " [1.8125   0.08     1.870625]\n",
      " [0.0425   1.09     1.440625]\n",
      " [0.0125   0.97     1.695625]\n",
      " [3.6125   2.77     0.255625]\n",
      " [0.6525   0.08     1.810625]\n",
      " [1.4425   1.49     0.040625]]\n",
      "-----------------------------\n",
      "the cluster 0 has 4 points\n",
      "indexs are [1 3 5 6]\n",
      "Centroid 0: [4.8  3.05]\n",
      "the cluster 1 has 2 points\n",
      "indexs are [4 8]\n",
      "Centroid 1: [5.3 4. ]\n",
      "the cluster 2 has 4 points\n",
      "indexs are [0 2 7 9]\n",
      "Centroid 2: [6.2   3.025]\n",
      "Iteration 4\n",
      "-----------distance-----------\n",
      "[[1.2325   1.       0.120625]\n",
      " [0.0625   1.7      2.575625]\n",
      " [2.0225   2.25     0.050625]\n",
      " [0.0325   1.       2.280625]\n",
      " [1.8125   0.08     1.870625]\n",
      " [0.0425   1.09     1.440625]\n",
      " [0.0125   0.97     1.695625]\n",
      " [3.6125   2.77     0.255625]\n",
      " [0.6525   0.08     1.810625]\n",
      " [1.4425   1.49     0.040625]]\n",
      "-----------------------------\n",
      "the cluster 0 has 4 points\n",
      "indexs are [1 3 5 6]\n",
      "Centroid 0: [4.8  3.05]\n",
      "the cluster 1 has 2 points\n",
      "indexs are [4 8]\n",
      "Centroid 1: [5.3 4. ]\n",
      "the cluster 2 has 4 points\n",
      "indexs are [0 2 7 9]\n",
      "Centroid 2: [6.2   3.025]\n",
      "Iteration 5\n",
      "-----------distance-----------\n",
      "[[1.2325   1.       0.120625]\n",
      " [0.0625   1.7      2.575625]\n",
      " [2.0225   2.25     0.050625]\n",
      " [0.0325   1.       2.280625]\n",
      " [1.8125   0.08     1.870625]\n",
      " [0.0425   1.09     1.440625]\n",
      " [0.0125   0.97     1.695625]\n",
      " [3.6125   2.77     0.255625]\n",
      " [0.6525   0.08     1.810625]\n",
      " [1.4425   1.49     0.040625]]\n",
      "-----------------------------\n",
      "the cluster 0 has 4 points\n",
      "indexs are [1 3 5 6]\n",
      "Centroid 0: [4.8  3.05]\n",
      "the cluster 1 has 2 points\n",
      "indexs are [4 8]\n",
      "Centroid 1: [5.3 4. ]\n",
      "the cluster 2 has 4 points\n",
      "indexs are [0 2 7 9]\n",
      "Centroid 2: [6.2   3.025]\n",
      "Iteration 6\n",
      "-----------distance-----------\n",
      "[[1.2325   1.       0.120625]\n",
      " [0.0625   1.7      2.575625]\n",
      " [2.0225   2.25     0.050625]\n",
      " [0.0325   1.       2.280625]\n",
      " [1.8125   0.08     1.870625]\n",
      " [0.0425   1.09     1.440625]\n",
      " [0.0125   0.97     1.695625]\n",
      " [3.6125   2.77     0.255625]\n",
      " [0.6525   0.08     1.810625]\n",
      " [1.4425   1.49     0.040625]]\n",
      "-----------------------------\n",
      "the cluster 0 has 4 points\n",
      "indexs are [1 3 5 6]\n",
      "Centroid 0: [4.8  3.05]\n",
      "the cluster 1 has 2 points\n",
      "indexs are [4 8]\n",
      "Centroid 1: [5.3 4. ]\n",
      "the cluster 2 has 4 points\n",
      "indexs are [0 2 7 9]\n",
      "Centroid 2: [6.2   3.025]\n",
      "Iteration 7\n",
      "-----------distance-----------\n",
      "[[1.2325   1.       0.120625]\n",
      " [0.0625   1.7      2.575625]\n",
      " [2.0225   2.25     0.050625]\n",
      " [0.0325   1.       2.280625]\n",
      " [1.8125   0.08     1.870625]\n",
      " [0.0425   1.09     1.440625]\n",
      " [0.0125   0.97     1.695625]\n",
      " [3.6125   2.77     0.255625]\n",
      " [0.6525   0.08     1.810625]\n",
      " [1.4425   1.49     0.040625]]\n",
      "-----------------------------\n",
      "the cluster 0 has 4 points\n",
      "indexs are [1 3 5 6]\n",
      "Centroid 0: [4.8  3.05]\n",
      "the cluster 1 has 2 points\n",
      "indexs are [4 8]\n",
      "Centroid 1: [5.3 4. ]\n",
      "the cluster 2 has 4 points\n",
      "indexs are [0 2 7 9]\n",
      "Centroid 2: [6.2   3.025]\n",
      "Iteration 8\n",
      "-----------distance-----------\n",
      "[[1.2325   1.       0.120625]\n",
      " [0.0625   1.7      2.575625]\n",
      " [2.0225   2.25     0.050625]\n",
      " [0.0325   1.       2.280625]\n",
      " [1.8125   0.08     1.870625]\n",
      " [0.0425   1.09     1.440625]\n",
      " [0.0125   0.97     1.695625]\n",
      " [3.6125   2.77     0.255625]\n",
      " [0.6525   0.08     1.810625]\n",
      " [1.4425   1.49     0.040625]]\n",
      "-----------------------------\n",
      "the cluster 0 has 4 points\n",
      "indexs are [1 3 5 6]\n",
      "Centroid 0: [4.8  3.05]\n",
      "the cluster 1 has 2 points\n",
      "indexs are [4 8]\n",
      "Centroid 1: [5.3 4. ]\n",
      "the cluster 2 has 4 points\n",
      "indexs are [0 2 7 9]\n",
      "Centroid 2: [6.2   3.025]\n",
      "Iteration 9\n",
      "-----------distance-----------\n",
      "[[1.2325   1.       0.120625]\n",
      " [0.0625   1.7      2.575625]\n",
      " [2.0225   2.25     0.050625]\n",
      " [0.0325   1.       2.280625]\n",
      " [1.8125   0.08     1.870625]\n",
      " [0.0425   1.09     1.440625]\n",
      " [0.0125   0.97     1.695625]\n",
      " [3.6125   2.77     0.255625]\n",
      " [0.6525   0.08     1.810625]\n",
      " [1.4425   1.49     0.040625]]\n",
      "-----------------------------\n",
      "the cluster 0 has 4 points\n",
      "indexs are [1 3 5 6]\n",
      "Centroid 0: [4.8  3.05]\n",
      "the cluster 1 has 2 points\n",
      "indexs are [4 8]\n",
      "Centroid 1: [5.3 4. ]\n",
      "the cluster 2 has 4 points\n",
      "indexs are [0 2 7 9]\n",
      "Centroid 2: [6.2   3.025]\n"
     ]
    },
    {
     "data": {
      "text/plain": [
       "(array([[4.8  , 3.05 ],\n",
       "        [5.3  , 4.   ],\n",
       "        [6.2  , 3.025]]),\n",
       " array([2, 0, 2, 0, 1, 0, 0, 2, 1, 2]))"
      ]
     },
     "execution_count": 225,
     "metadata": {},
     "output_type": "execute_result"
    }
   ],
   "source": [
    "kmeans(x,3)"
   ]
  }
 ],
 "metadata": {
  "kernelspec": {
   "display_name": "Python 3 (ipykernel)",
   "language": "python",
   "name": "python3"
  },
  "language_info": {
   "codemirror_mode": {
    "name": "ipython",
    "version": 3
   },
   "file_extension": ".py",
   "mimetype": "text/x-python",
   "name": "python",
   "nbconvert_exporter": "python",
   "pygments_lexer": "ipython3",
   "version": "3.12.4"
  }
 },
 "nbformat": 4,
 "nbformat_minor": 5
}
