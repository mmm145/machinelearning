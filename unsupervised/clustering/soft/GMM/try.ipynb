{
 "cells": [
  {
   "cell_type": "code",
   "execution_count": 1,
   "id": "e369c72d-75bf-4273-bddd-a1b97bfb2678",
   "metadata": {},
   "outputs": [
    {
     "name": "stdout",
     "output_type": "stream",
     "text": [
      "Point x1: Responsibility for Component 1 = 0.9959, Component 2 = 0.0041\n",
      "Point x2: Responsibility for Component 1 = 0.8176, Component 2 = 0.1824\n",
      "Point x3: Responsibility for Component 1 = 1.0000, Component 2 = 0.0000\n",
      "Point x4: Responsibility for Component 1 = 1.0000, Component 2 = 0.0000\n",
      "Point x5: Responsibility for Component 1 = 0.9999, Component 2 = 0.0001\n"
     ]
    }
   ],
   "source": [
    "import numpy as np\n",
    "\n",
    "# Data points (x1, x2, x3, x4, x5)\n",
    "data = np.array([[4, 3], [3, 3], [6, 1], [5, 4], [5, 3]])\n",
    "\n",
    "# Initial parameters for Gaussian components\n",
    "mu1 = np.array([5, 2])  # Mean of component 1\n",
    "mu2 = np.array([1, 1])  # Mean of component 2\n",
    "\n",
    "sigma1 = np.eye(2)  # Covariance of component 1 (identity matrix)\n",
    "sigma2 = np.eye(2)  # Covariance of component 2 (identity matrix)\n",
    "\n",
    "pi1 = 0.5  # Prior for component 1\n",
    "pi2 = 0.5  # Prior for component 2\n",
    "\n",
    "# Gaussian density function\n",
    "def gaussian_density(x, mu, sigma):\n",
    "    d = len(mu)\n",
    "    det_sigma = np.linalg.det(sigma)\n",
    "    inv_sigma = np.linalg.inv(sigma)\n",
    "    diff = x - mu\n",
    "    exponent = -0.5 * np.dot(diff.T, np.dot(inv_sigma, diff))\n",
    "    return (1 / ((2 * np.pi) ** (d / 2) * np.sqrt(det_sigma))) * np.exp(exponent)\n",
    "\n",
    "# Calculate responsibilities\n",
    "responsibilities = []\n",
    "for x in data:\n",
    "    # Compute Gaussian densities for each component\n",
    "    p1 = pi1 * gaussian_density(x, mu1, sigma1)\n",
    "    p2 = pi2 * gaussian_density(x, mu2, sigma2)\n",
    "    \n",
    "    # Normalize to get responsibilities\n",
    "    gamma1 = p1 / (p1 + p2)\n",
    "    gamma2 = p2 / (p1 + p2)\n",
    "    responsibilities.append([gamma1, gamma2])\n",
    "\n",
    "responsibilities = np.array(responsibilities)\n",
    "\n",
    "# Print responsibilities\n",
    "for i, (gamma1, gamma2) in enumerate(responsibilities):\n",
    "    print(f\"Point x{i+1}: Responsibility for Component 1 = {gamma1:.4f}, Component 2 = {gamma2:.4f}\")\n"
   ]
  },
  {
   "cell_type": "code",
   "execution_count": 5,
   "id": "076a2eca-7e9f-4460-bbbe-3c1a70d57c93",
   "metadata": {},
   "outputs": [
    {
     "data": {
      "text/plain": [
       "0.9959298622841039"
      ]
     },
     "execution_count": 5,
     "metadata": {},
     "output_type": "execute_result"
    }
   ],
   "source": [
    "np.exp(-1) / ( np.exp(-1) + np.exp(-13/2))"
   ]
  },
  {
   "cell_type": "code",
   "execution_count": 7,
   "id": "955c5e41-1d79-42f9-8f11-9e5feba9b737",
   "metadata": {},
   "outputs": [
    {
     "name": "stdout",
     "output_type": "stream",
     "text": [
      "Updated Mixing Coefficients (π_k): [0.94874 0.05126]\n",
      "Updated Means (μ_k): [[4.53019795 2.89286844]\n",
      " [5.89192353 1.0811549 ]]\n",
      "Updated Covariances (Σ_k): [[[ 0.98526449 -0.36822594]\n",
      "  [-0.36822594  0.83507721]]\n",
      "\n",
      " [[ 0.29382084 -0.20816235]\n",
      "  [-0.20816235  0.15806468]]]\n"
     ]
    }
   ],
   "source": [
    "\n",
    "responsibilities = np.array([\n",
    "    [0.9984, 0.0016],  # For x1\n",
    "    [0.9921, 0.0079],  # For x2\n",
    "    [0.7540, 0.2460],  # For x3\n",
    "    [0.9998, 0.0002],  # For x4\n",
    "    [0.9994, 0.0006]   # For x5\n",
    "])\n",
    "\n",
    "# Calculate updated mixing coefficients\n",
    "N_k = np.sum(responsibilities, axis=0)  # Sum of responsibilities for each component\n",
    "pi_k = N_k / len(data)  # Updated priors\n",
    "\n",
    "# Calculate updated means\n",
    "mu_k = np.array([\n",
    "    np.sum(responsibilities[:, k].reshape(-1, 1) * data, axis=0) / N_k[k]\n",
    "    for k in range(2)  # Number of components\n",
    "])\n",
    "\n",
    "# Calculate updated covariances\n",
    "sigma_k = []\n",
    "for k in range(2):  # For each component\n",
    "    diff = data - mu_k[k]\n",
    "    weighted_diff = responsibilities[:, k].reshape(-1, 1) * diff\n",
    "    cov = np.dot(weighted_diff.T, diff) / N_k[k]\n",
    "    sigma_k.append(cov)\n",
    "\n",
    "sigma_k = np.array(sigma_k)\n",
    "\n",
    "# Print results\n",
    "print(\"Updated Mixing Coefficients (π_k):\", pi_k)\n",
    "print(\"Updated Means (μ_k):\", mu_k)\n",
    "print(\"Updated Covariances (Σ_k):\", sigma_k)"
   ]
  }
 ],
 "metadata": {
  "kernelspec": {
   "display_name": "Python 3 (ipykernel)",
   "language": "python",
   "name": "python3"
  },
  "language_info": {
   "codemirror_mode": {
    "name": "ipython",
    "version": 3
   },
   "file_extension": ".py",
   "mimetype": "text/x-python",
   "name": "python",
   "nbconvert_exporter": "python",
   "pygments_lexer": "ipython3",
   "version": "3.12.4"
  }
 },
 "nbformat": 4,
 "nbformat_minor": 5
}
