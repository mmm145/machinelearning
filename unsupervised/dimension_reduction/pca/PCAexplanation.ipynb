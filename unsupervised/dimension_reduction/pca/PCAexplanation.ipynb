{
 "cells": [
  {
   "cell_type": "markdown",
   "id": "c5ed9b3e-2891-444c-ad7e-19dfc6359fa3",
   "metadata": {},
   "source": [
    "# singular decomposition\n",
    "\n",
    "## singular decomposition A = U * S * Transpose(V)\n",
    "\n",
    "- U - left singular vector\n",
    "  - eigen vectors of A*transpose(A)\n",
    "- S - singular values\n",
    "- V - right singular vector\n",
    "  - eigen vectors of transpose(A) * A\n",
    "\n",
    "- eigen values of A*transpose(A) and transpose(A) * A are the same as square root of singular values of A \n"
   ]
  }
 ],
 "metadata": {
  "kernelspec": {
   "display_name": "Python 3 (ipykernel)",
   "language": "python",
   "name": "python3"
  },
  "language_info": {
   "codemirror_mode": {
    "name": "ipython",
    "version": 3
   },
   "file_extension": ".py",
   "mimetype": "text/x-python",
   "name": "python",
   "nbconvert_exporter": "python",
   "pygments_lexer": "ipython3",
   "version": "3.12.4"
  }
 },
 "nbformat": 4,
 "nbformat_minor": 5
}
